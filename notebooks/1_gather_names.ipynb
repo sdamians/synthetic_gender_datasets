{
 "cells": [
  {
   "cell_type": "code",
   "execution_count": 1,
   "id": "4cfd153b",
   "metadata": {},
   "outputs": [],
   "source": [
    "import pandas as pd\n",
    "import sys\n",
    "import os\n",
    "\n",
    "src_path = os.path.normpath(os.path.join(os.getcwd(), '..', 'src'))\n",
    "if src_path not in sys.path:\n",
    "    sys.path.append(src_path)\n",
    "\n",
    "from utils.dataset import gather_data"
   ]
  },
  {
   "cell_type": "code",
   "execution_count": 2,
   "id": "f9b4deb5",
   "metadata": {},
   "outputs": [],
   "source": [
    "new_names = [\"name\", \"gender\", \"number\"]\n",
    "\n",
    "datasets = [\n",
    "    {\n",
    "        \"filename\":\"../data/most_popular_baby_names_by_sex_and_mother_s_ethnic_group_new_york_city.csv\",\n",
    "        \"name_col\":\"nm\",\n",
    "        \"gender_col\":\"gndr\",\n",
    "        \"count_col\":\"cnt\",\n",
    "        \"new_names\": new_names\n",
    "    },\n",
    "    {\n",
    "        \"filename\":\"../data/babyNamesUSYOB-full.csv\",\n",
    "        \"name_col\":\"Name\",\n",
    "        \"gender_col\":\"Sex\",\n",
    "        \"count_col\":\"Number\",\n",
    "        \"new_names\": new_names\n",
    "    }\n",
    "]"
   ]
  },
  {
   "cell_type": "code",
   "execution_count": 3,
   "id": "dab8b295",
   "metadata": {},
   "outputs": [],
   "source": [
    "dfs = [ gather_data(**d)  for d in datasets ]\n",
    "df = pd.concat(dfs, axis=0) "
   ]
  },
  {
   "cell_type": "code",
   "execution_count": 4,
   "id": "1637d329",
   "metadata": {},
   "outputs": [
    {
     "data": {
      "text/html": [
       "<div>\n",
       "<style scoped>\n",
       "    .dataframe tbody tr th:only-of-type {\n",
       "        vertical-align: middle;\n",
       "    }\n",
       "\n",
       "    .dataframe tbody tr th {\n",
       "        vertical-align: top;\n",
       "    }\n",
       "\n",
       "    .dataframe thead th {\n",
       "        text-align: right;\n",
       "    }\n",
       "</style>\n",
       "<table border=\"1\" class=\"dataframe\">\n",
       "  <thead>\n",
       "    <tr style=\"text-align: right;\">\n",
       "      <th></th>\n",
       "      <th>name</th>\n",
       "      <th>gender</th>\n",
       "      <th>number</th>\n",
       "    </tr>\n",
       "  </thead>\n",
       "  <tbody>\n",
       "    <tr>\n",
       "      <th>773</th>\n",
       "      <td>Jayden</td>\n",
       "      <td>M</td>\n",
       "      <td>2925</td>\n",
       "    </tr>\n",
       "    <tr>\n",
       "      <th>541</th>\n",
       "      <td>Ethan</td>\n",
       "      <td>M</td>\n",
       "      <td>2809</td>\n",
       "    </tr>\n",
       "    <tr>\n",
       "      <th>718</th>\n",
       "      <td>Jacob</td>\n",
       "      <td>M</td>\n",
       "      <td>2663</td>\n",
       "    </tr>\n",
       "    <tr>\n",
       "      <th>409</th>\n",
       "      <td>Daniel</td>\n",
       "      <td>M</td>\n",
       "      <td>2417</td>\n",
       "    </tr>\n",
       "    <tr>\n",
       "      <th>1470</th>\n",
       "      <td>Sophia</td>\n",
       "      <td>F</td>\n",
       "      <td>2357</td>\n",
       "    </tr>\n",
       "  </tbody>\n",
       "</table>\n",
       "</div>"
      ],
      "text/plain": [
       "        name gender  number\n",
       "773   Jayden      M    2925\n",
       "541    Ethan      M    2809\n",
       "718    Jacob      M    2663\n",
       "409   Daniel      M    2417\n",
       "1470  Sophia      F    2357"
      ]
     },
     "execution_count": 4,
     "metadata": {},
     "output_type": "execute_result"
    }
   ],
   "source": [
    "df.head()"
   ]
  },
  {
   "cell_type": "code",
   "execution_count": 5,
   "id": "aeb20481",
   "metadata": {},
   "outputs": [
    {
     "data": {
      "text/html": [
       "<div>\n",
       "<style scoped>\n",
       "    .dataframe tbody tr th:only-of-type {\n",
       "        vertical-align: middle;\n",
       "    }\n",
       "\n",
       "    .dataframe tbody tr th {\n",
       "        vertical-align: top;\n",
       "    }\n",
       "\n",
       "    .dataframe thead th {\n",
       "        text-align: right;\n",
       "    }\n",
       "</style>\n",
       "<table border=\"1\" class=\"dataframe\">\n",
       "  <thead>\n",
       "    <tr style=\"text-align: right;\">\n",
       "      <th></th>\n",
       "      <th>name</th>\n",
       "      <th>gender</th>\n",
       "      <th>number</th>\n",
       "    </tr>\n",
       "  </thead>\n",
       "  <tbody>\n",
       "    <tr>\n",
       "      <th>42042</th>\n",
       "      <td>James</td>\n",
       "      <td>M</td>\n",
       "      <td>5122407</td>\n",
       "    </tr>\n",
       "    <tr>\n",
       "      <th>46750</th>\n",
       "      <td>John</td>\n",
       "      <td>M</td>\n",
       "      <td>5096818</td>\n",
       "    </tr>\n",
       "    <tr>\n",
       "      <th>81467</th>\n",
       "      <td>Robert</td>\n",
       "      <td>M</td>\n",
       "      <td>4803587</td>\n",
       "    </tr>\n",
       "    <tr>\n",
       "      <th>68566</th>\n",
       "      <td>Michael</td>\n",
       "      <td>M</td>\n",
       "      <td>4326215</td>\n",
       "    </tr>\n",
       "    <tr>\n",
       "      <th>66312</th>\n",
       "      <td>Mary</td>\n",
       "      <td>F</td>\n",
       "      <td>4118147</td>\n",
       "    </tr>\n",
       "  </tbody>\n",
       "</table>\n",
       "</div>"
      ],
      "text/plain": [
       "          name gender   number\n",
       "42042    James      M  5122407\n",
       "46750     John      M  5096818\n",
       "81467   Robert      M  4803587\n",
       "68566  Michael      M  4326215\n",
       "66312     Mary      F  4118147"
      ]
     },
     "execution_count": 5,
     "metadata": {},
     "output_type": "execute_result"
    }
   ],
   "source": [
    "df = (df\n",
    "      .groupby([\"name\", \"gender\"])\n",
    "      .agg({ \"number\": \"sum\" })\n",
    "      .reset_index()\n",
    "      .sort_values(by=\"number\", ascending=False))\n",
    "\n",
    "df.head()"
   ]
  },
  {
   "cell_type": "code",
   "execution_count": 6,
   "id": "d387b309",
   "metadata": {},
   "outputs": [
    {
     "data": {
      "text/plain": [
       "gender\n",
       "F    65658\n",
       "M    39729\n",
       "Name: count, dtype: int64"
      ]
     },
     "execution_count": 6,
     "metadata": {},
     "output_type": "execute_result"
    }
   ],
   "source": [
    "df[\"gender\"].value_counts()"
   ]
  },
  {
   "cell_type": "code",
   "execution_count": 7,
   "id": "4ebbf567",
   "metadata": {},
   "outputs": [],
   "source": [
    "df.to_csv(\"../datasets/names.csv\")"
   ]
  }
 ],
 "metadata": {
  "kernelspec": {
   "display_name": ".venv",
   "language": "python",
   "name": "python3"
  },
  "language_info": {
   "codemirror_mode": {
    "name": "ipython",
    "version": 3
   },
   "file_extension": ".py",
   "mimetype": "text/x-python",
   "name": "python",
   "nbconvert_exporter": "python",
   "pygments_lexer": "ipython3",
   "version": "3.12.10"
  }
 },
 "nbformat": 4,
 "nbformat_minor": 5
}

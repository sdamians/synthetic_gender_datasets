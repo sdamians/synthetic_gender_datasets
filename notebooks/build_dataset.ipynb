{
 "cells": [
  {
   "cell_type": "code",
   "execution_count": 1,
   "id": "691ce24c",
   "metadata": {},
   "outputs": [
    {
     "name": "stderr",
     "output_type": "stream",
     "text": [
      "d:\\Doctorado\\Papers\\Para EL paper\\Workspace\\.venv\\Lib\\site-packages\\tqdm\\auto.py:21: TqdmWarning: IProgress not found. Please update jupyter and ipywidgets. See https://ipywidgets.readthedocs.io/en/stable/user_install.html\n",
      "  from .autonotebook import tqdm as notebook_tqdm\n"
     ]
    }
   ],
   "source": [
    "from transformer_lens import HookedTransformer\n",
    "import transformer_lens.utils as utils"
   ]
  },
  {
   "cell_type": "code",
   "execution_count": 2,
   "id": "5d3305e1",
   "metadata": {},
   "outputs": [],
   "source": [
    "import pandas as pd\n",
    "import numpy as np\n",
    "import re\n",
    "import random\n",
    "import json\n",
    "from datasets import Dataset"
   ]
  },
  {
   "cell_type": "markdown",
   "id": "4e101414",
   "metadata": {},
   "source": [
    "`get_token_position`: Get the position of a single_token in a string or sequence of tokens."
   ]
  },
  {
   "cell_type": "code",
   "execution_count": 3,
   "id": "03790120",
   "metadata": {},
   "outputs": [
    {
     "data": {
      "text/html": [
       "<div>\n",
       "<style scoped>\n",
       "    .dataframe tbody tr th:only-of-type {\n",
       "        vertical-align: middle;\n",
       "    }\n",
       "\n",
       "    .dataframe tbody tr th {\n",
       "        vertical-align: top;\n",
       "    }\n",
       "\n",
       "    .dataframe thead th {\n",
       "        text-align: right;\n",
       "    }\n",
       "</style>\n",
       "<table border=\"1\" class=\"dataframe\">\n",
       "  <thead>\n",
       "    <tr style=\"text-align: right;\">\n",
       "      <th></th>\n",
       "      <th>name</th>\n",
       "      <th>gender</th>\n",
       "      <th>number</th>\n",
       "      <th>gpt2-small</th>\n",
       "    </tr>\n",
       "  </thead>\n",
       "  <tbody>\n",
       "    <tr>\n",
       "      <th>0</th>\n",
       "      <td>James</td>\n",
       "      <td>M</td>\n",
       "      <td>5122407</td>\n",
       "      <td>3700</td>\n",
       "    </tr>\n",
       "    <tr>\n",
       "      <th>1</th>\n",
       "      <td>John</td>\n",
       "      <td>M</td>\n",
       "      <td>5096818</td>\n",
       "      <td>1757</td>\n",
       "    </tr>\n",
       "    <tr>\n",
       "      <th>2</th>\n",
       "      <td>Robert</td>\n",
       "      <td>M</td>\n",
       "      <td>4803587</td>\n",
       "      <td>5199</td>\n",
       "    </tr>\n",
       "    <tr>\n",
       "      <th>3</th>\n",
       "      <td>Michael</td>\n",
       "      <td>M</td>\n",
       "      <td>4326215</td>\n",
       "      <td>3899</td>\n",
       "    </tr>\n",
       "    <tr>\n",
       "      <th>4</th>\n",
       "      <td>Mary</td>\n",
       "      <td>F</td>\n",
       "      <td>4118147</td>\n",
       "      <td>5335</td>\n",
       "    </tr>\n",
       "  </tbody>\n",
       "</table>\n",
       "</div>"
      ],
      "text/plain": [
       "      name gender   number gpt2-small\n",
       "0    James      M  5122407       3700\n",
       "1     John      M  5096818       1757\n",
       "2   Robert      M  4803587       5199\n",
       "3  Michael      M  4326215       3899\n",
       "4     Mary      F  4118147       5335"
      ]
     },
     "execution_count": 3,
     "metadata": {},
     "output_type": "execute_result"
    }
   ],
   "source": [
    "df = pd.read_csv(\"../datasets/names.csv\")\n",
    "df.head()"
   ]
  },
  {
   "cell_type": "code",
   "execution_count": 4,
   "id": "e62367fc",
   "metadata": {},
   "outputs": [],
   "source": [
    "df[\"gpt2-small-size\"] = df[\"gpt2-small\"].apply(lambda x: len(x.split(\",\")))"
   ]
  },
  {
   "cell_type": "code",
   "execution_count": 5,
   "id": "caf60f7e",
   "metadata": {},
   "outputs": [
    {
     "name": "stderr",
     "output_type": "stream",
     "text": [
      "`torch_dtype` is deprecated! Use `dtype` instead!\n"
     ]
    },
    {
     "name": "stdout",
     "output_type": "stream",
     "text": [
      "Loaded pretrained model gpt2-small into HookedTransformer\n"
     ]
    }
   ],
   "source": [
    "model = HookedTransformer.from_pretrained(\n",
    "    \"gpt2-small\",\n",
    "    center_unembed=True,\n",
    "    center_writing_weights=True,\n",
    "    fold_ln=True,\n",
    "    refactor_factored_attn_matrices=True\n",
    ")"
   ]
  },
  {
   "cell_type": "code",
   "execution_count": 6,
   "id": "4654cee1",
   "metadata": {},
   "outputs": [],
   "source": [
    "def to_token_ids(model: HookedTransformer, name: str) -> str:\n",
    "    \"\"\"\n",
    "    Converts a given name string into a comma-separated string of token IDs using the provided model.\n",
    "\n",
    "    Args:\n",
    "        model (HookedTransformer): The language model used for tokenization.\n",
    "        name (str): The name to be tokenized.\n",
    "\n",
    "    Returns:\n",
    "        str: A comma-separated string of token IDs representing the input name.\n",
    "    \"\"\"\n",
    "    tokens = model.to_tokens(f\" {name}\", prepend_bos=False)[0].tolist()\n",
    "    return \",\".join([str(t) for t in tokens])\n",
    "\n",
    "# df[\"gpt2-small\"] = df[\"name\"].apply(lambda x: to_token_ids(model, x))"
   ]
  },
  {
   "cell_type": "code",
   "execution_count": 7,
   "id": "1bd3c926",
   "metadata": {},
   "outputs": [],
   "source": [
    "# example_prompt = \"Is Mary around here?\\n-No,\"\n",
    "# example_answer = \" he\"\n",
    "# utils.test_prompt(example_prompt, example_answer, model, prepend_bos=True, top_k=30)"
   ]
  },
  {
   "cell_type": "code",
   "execution_count": 8,
   "id": "77b5ee55",
   "metadata": {},
   "outputs": [],
   "source": [
    "def fill_prompt(prompt: str, name: str, template_config: dict) -> str:\n",
    "    \"\"\"\n",
    "    Fills a prompt template by replacing placeholders with actual values.\n",
    "\n",
    "    Args:\n",
    "        prompt (str): The prompt template containing placeholders in square brackets.\n",
    "        name (str): The name to insert into the prompt.\n",
    "        template_config (dict): Dictionary with possible replacements for placeholders.\n",
    "\n",
    "    Returns:\n",
    "        str: The filled prompt with all placeholders replaced.\n",
    "    \"\"\"\n",
    "    elems = re.findall(r\"\\[(.*?)\\]\",prompt)\n",
    "    for elem in elems:\n",
    "        if elem != 'name':\n",
    "            prompt = re.sub(rf\"\\[{elem}\\]\", random.choice(template_config[elem]), prompt)\n",
    "        else:\n",
    "            prompt = re.sub(r\"\\[name\\]\", name, prompt)\n",
    "    return prompt\n",
    "\n",
    "def get_ans_tokens(ans: dict, model: HookedTransformer) -> dict:\n",
    "    \"\"\"\n",
    "    Converts answer strings to their corresponding token IDs using the model.\n",
    "\n",
    "    Args:\n",
    "        ans (dict): Dictionary mapping keys (e.g., gender) to answer strings.\n",
    "        model (HookedTransformer): The language model used for tokenization.\n",
    "\n",
    "    Returns:\n",
    "        dict: Dictionary mapping keys to the first token ID of each answer string.\n",
    "    \"\"\"\n",
    "    return { k: model.to_tokens(f\" {v}\", prepend_bos=False)[0].tolist()[0] for k,v in ans.items() }\n",
    "\n",
    "def get_opposite_gender(gender: str) -> str:\n",
    "    \"\"\"\n",
    "    Returns the opposite gender.\n",
    "\n",
    "    Args:\n",
    "        gender (str): \"M\" for male or \"F\" for female.\n",
    "\n",
    "    Returns:\n",
    "        str: \"F\" if input is \"M\", otherwise \"M\".\n",
    "    \"\"\"\n",
    "    return \"F\" if gender==\"M\" else \"M\"\n",
    "\n",
    "def get_token_pos(prompt: str, token_str: str) -> list:\n",
    "    \"\"\"\n",
    "    Finds the positions of tokens in a prompt.\n",
    "\n",
    "    Args:\n",
    "        prompt (str): The prompt string.\n",
    "        token_str (str): Comma-separated string of token IDs.\n",
    "\n",
    "    Returns:\n",
    "        list: List of positions of each token in the prompt.\n",
    "    \"\"\"\n",
    "    tokens = token_str.split(\",\")\n",
    "    return [ model.get_token_position(single_token=int(token), input=prompt, prepend_bos=True) for token in tokens ]\n",
    "\n",
    "def create_dataset(model: HookedTransformer, df: pd.DataFrame, template_config: dict, dataset_size: int = 1000, subject_token_size: int = 2) -> dict:\n",
    "    \"\"\"\n",
    "    Creates a dataset dictionary for language model probing.\n",
    "\n",
    "    Args:\n",
    "        model (HookedTransformer): The language model.\n",
    "        df (pd.DataFrame): DataFrame containing names and metadata.\n",
    "        template_config (dict): Configuration for templates and answers.\n",
    "        dataset_size (int): Number of samples to generate.\n",
    "        subject_token_size (int): Number of tokens for subject names.\n",
    "\n",
    "    Returns:\n",
    "        dict: Dictionary containing dataset fields for further processing.\n",
    "    \"\"\"\n",
    "    ans_tokens = get_ans_tokens(template_config[\"ans\"], model)\n",
    "    prompt = random.choice(template_config[\"templates\"])\n",
    "\n",
    "    all_males   = df[ (df[\"gender\"] == \"M\") & (df[\"gpt2-small-size\"] == subject_token_size) ] \n",
    "    all_females = df[ (df[\"gender\"] == \"F\") & (df[\"gpt2-small-size\"] == subject_token_size) ] \n",
    "\n",
    "    males   = all_males.sample(n=dataset_size // 2, weights=\"number\", replace=True)\n",
    "    females = all_females.sample(n=dataset_size // 2, weights=\"number\", replace=True)\n",
    "    data    = pd.concat([males, females], axis=0)\n",
    "\n",
    "    dataset_dict = { \"template_id\": [], \n",
    "                     \"prompt\": [], \n",
    "                     \"expected_token\":[], \n",
    "                     \"unexpected_token\":[],\n",
    "                     \"expected_token_id\":[], \n",
    "                     \"unexpected_token_id\":[],\n",
    "                     \"subject_token_pos\":[] }\n",
    "\n",
    "    for _, row in data.iterrows():\n",
    "        prompt_filled = fill_prompt(prompt, row[\"name\"], template_config)\n",
    "        positions = get_token_pos(prompt_filled, row[\"gpt2-small\"])\n",
    "        gender = row[\"gender\"]\n",
    "        op_gender = get_opposite_gender(gender)\n",
    "\n",
    "        dataset_dict[\"template_id\"].append(prompt)\n",
    "        dataset_dict[\"prompt\"].append(prompt_filled)\n",
    "        dataset_dict[\"expected_token\"].append(template_config[\"ans\"][gender])\n",
    "        dataset_dict[\"expected_token_id\"].append(ans_tokens[gender])\n",
    "        dataset_dict[\"unexpected_token\"].append(template_config[\"ans\"][op_gender])\n",
    "        dataset_dict[\"unexpected_token_id\"].append(ans_tokens[op_gender])\n",
    "        dataset_dict[\"subject_token_pos\"].append(positions)\n",
    "    \n",
    "    return dataset_dict"
   ]
  },
  {
   "cell_type": "code",
   "execution_count": 13,
   "id": "c755071c",
   "metadata": {},
   "outputs": [],
   "source": [
    "# CONFIG\n",
    "dataset = \"subject_pron\"\n",
    "dataset_size = 2000\n",
    "subject_token_sizes = [1,2,3]"
   ]
  },
  {
   "cell_type": "code",
   "execution_count": 14,
   "id": "36600a0f",
   "metadata": {},
   "outputs": [
    {
     "name": "stdout",
     "output_type": "stream",
     "text": [
      "Creating dataset for subject_token_size=1...\n"
     ]
    },
    {
     "name": "stderr",
     "output_type": "stream",
     "text": [
      "Saving the dataset (1/1 shards): 100%|██████████| 2000/2000 [00:00<00:00, 45451.93 examples/s]\n"
     ]
    },
    {
     "name": "stdout",
     "output_type": "stream",
     "text": [
      "Creating dataset for subject_token_size=2...\n"
     ]
    },
    {
     "name": "stderr",
     "output_type": "stream",
     "text": [
      "Saving the dataset (1/1 shards): 100%|██████████| 2000/2000 [00:00<00:00, 330559.48 examples/s]\n"
     ]
    },
    {
     "name": "stdout",
     "output_type": "stream",
     "text": [
      "Creating dataset for subject_token_size=3...\n"
     ]
    },
    {
     "name": "stderr",
     "output_type": "stream",
     "text": [
      "Saving the dataset (1/1 shards): 100%|██████████| 2000/2000 [00:00<00:00, 276934.01 examples/s]\n"
     ]
    }
   ],
   "source": [
    "with open(\"../src/dataset/templates.json\", \"r\", encoding=\"utf-8\") as f:\n",
    "    jdata = json.load(f)\n",
    "\n",
    "    for subject_token_size in subject_token_sizes:\n",
    "        print(f\"Creating dataset for subject_token_size={subject_token_size}...\")\n",
    "        mydict = create_dataset(model, df, jdata[dataset], dataset_size=dataset_size, subject_token_size=subject_token_size)\n",
    "        ds = Dataset.from_dict(mydict)\n",
    "        ds.save_to_disk(f\"../datasets/{dataset}_{subject_token_size}_tokens\")"
   ]
  }
 ],
 "metadata": {
  "kernelspec": {
   "display_name": ".venv",
   "language": "python",
   "name": "python3"
  },
  "language_info": {
   "codemirror_mode": {
    "name": "ipython",
    "version": 3
   },
   "file_extension": ".py",
   "mimetype": "text/x-python",
   "name": "python",
   "nbconvert_exporter": "python",
   "pygments_lexer": "ipython3",
   "version": "3.12.10"
  }
 },
 "nbformat": 4,
 "nbformat_minor": 5
}
